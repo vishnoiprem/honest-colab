{
 "cells": [
  {
   "cell_type": "markdown",
   "metadata": {},
   "source": [
    "# Telco Case Study\n"
   ]
  },
  {
   "cell_type": "markdown",
   "metadata": {},
   "source": [
    "### Question 1\n",
    "\n",
    "What might be the drivers for variation in network maintenance performance between regions?"
   ]
  },
  {
   "cell_type": "markdown",
   "metadata": {},
   "source": [
    "*Your answer (non-coding):*"
   ]
  },
  {
   "cell_type": "markdown",
   "metadata": {},
   "source": []
  },
  {
   "cell_type": "markdown",
   "metadata": {},
   "source": [
    "### Question 2\n",
    "\n",
    "After working with Data Scientists and industry experts, we've agreed to uncover the drivers of engineering team performance using a model.  The first task is to assess the data available.\n",
    "\n",
    "What data quality issues would you be concerned about and check for?\n",
    "\n",
    "- What data quality issues would you be concerned about and check for?\n",
    "- Execute a test for completeness of data against the `Issue type` field in the alarms.json file"
   ]
  },
  {
   "cell_type": "code",
   "execution_count": 2,
   "metadata": {},
   "outputs": [
    {
     "data": {
      "text/plain": [
       "'...'"
      ]
     },
     "execution_count": 2,
     "metadata": {},
     "output_type": "execute_result"
    }
   ],
   "source": [
    "# Your answer\n",
    "\"...\""
   ]
  },
  {
   "cell_type": "markdown",
   "metadata": {},
   "source": [
    "### Question 3\n",
    "\n",
    "A simple initial definition of performance, is agreed to be the number of tickets a team resolves.\n",
    "\n",
    "To better understand the variances produce a table showing:\n",
    "\n",
    "- team\n",
    "- tickets_priority_1_count\n",
    "- tickets_priority_2_count\n",
    "- tickets_priority_3_count"
   ]
  },
  {
   "cell_type": "code",
   "execution_count": 27,
   "metadata": {},
   "outputs": [],
   "source": [
    "# Your Answer"
   ]
  },
  {
   "cell_type": "code",
   "execution_count": 12,
   "metadata": {},
   "outputs": [
    {
     "data": {
      "text/html": [
       "<div>\n",
       "<style scoped>\n",
       "    .dataframe tbody tr th:only-of-type {\n",
       "        vertical-align: middle;\n",
       "    }\n",
       "\n",
       "    .dataframe tbody tr th {\n",
       "        vertical-align: top;\n",
       "    }\n",
       "\n",
       "    .dataframe thead th {\n",
       "        text-align: right;\n",
       "    }\n",
       "</style>\n",
       "<table border=\"1\" class=\"dataframe\">\n",
       "  <thead>\n",
       "    <tr style=\"text-align: right;\">\n",
       "      <th></th>\n",
       "      <th>team</th>\n",
       "      <th>tickets_priority_1_count</th>\n",
       "      <th>tickets_priority_2_count</th>\n",
       "      <th>tickets_priority_3_count</th>\n",
       "    </tr>\n",
       "  </thead>\n",
       "  <tbody>\n",
       "    <tr>\n",
       "      <th>0</th>\n",
       "      <td>team0</td>\n",
       "      <td>61</td>\n",
       "      <td>73</td>\n",
       "      <td>72</td>\n",
       "    </tr>\n",
       "    <tr>\n",
       "      <th>1</th>\n",
       "      <td>team1</td>\n",
       "      <td>77</td>\n",
       "      <td>29</td>\n",
       "      <td>62</td>\n",
       "    </tr>\n",
       "    <tr>\n",
       "      <th>2</th>\n",
       "      <td>team2</td>\n",
       "      <td>26</td>\n",
       "      <td>58</td>\n",
       "      <td>63</td>\n",
       "    </tr>\n",
       "    <tr>\n",
       "      <th>3</th>\n",
       "      <td>team3</td>\n",
       "      <td>67</td>\n",
       "      <td>17</td>\n",
       "      <td>92</td>\n",
       "    </tr>\n",
       "    <tr>\n",
       "      <th>4</th>\n",
       "      <td>team4</td>\n",
       "      <td>77</td>\n",
       "      <td>1</td>\n",
       "      <td>75</td>\n",
       "    </tr>\n",
       "  </tbody>\n",
       "</table>\n",
       "</div>"
      ],
      "text/plain": [
       "    team  tickets_priority_1_count  tickets_priority_2_count  \\\n",
       "0  team0                        61                        73   \n",
       "1  team1                        77                        29   \n",
       "2  team2                        26                        58   \n",
       "3  team3                        67                        17   \n",
       "4  team4                        77                         1   \n",
       "\n",
       "   tickets_priority_3_count  \n",
       "0                        72  \n",
       "1                        62  \n",
       "2                        63  \n",
       "3                        92  \n",
       "4                        75  "
      ]
     },
     "execution_count": 12,
     "metadata": {},
     "output_type": "execute_result"
    }
   ],
   "source": [
    "# Example output schema (using generated mock data)\n",
    "import pandas as pd\n",
    "import numpy as np\n",
    "teams = ['team78', 'team30', 'team68', 'team56', 'team34', 'team48',\n",
    "       'team28', 'team33', 'team90']\n",
    "example_output_q3 = pd.DataFrame(\n",
    "    {'team': np.random.choice(teams, 24),\n",
    "     'tickets_priority_1_count': np.random.randint(0,100,24),\n",
    "     'tickets_priority_2_count': np.random.randint(0,100,24),\n",
    "     'tickets_priority_3_count': np.random.randint(0,100,24)}\n",
    ")\n",
    "example_output_q3.head()"
   ]
  },
  {
   "cell_type": "markdown",
   "metadata": {},
   "source": [
    "### Question 4\n",
    "\n",
    "As input to the early model effort create a dataframe with:\n",
    "\n",
    "- year\n",
    "- month\n",
    "- team\n",
    "- team size\n",
    "- tickets solved in the current month\n",
    "- tickets solved in the previous year"
   ]
  },
  {
   "cell_type": "code",
   "execution_count": 11,
   "metadata": {},
   "outputs": [],
   "source": [
    "# Your Answer\n"
   ]
  },
  {
   "cell_type": "code",
   "execution_count": 2,
   "metadata": {},
   "outputs": [
    {
     "data": {
      "text/html": [
       "<div>\n",
       "<style scoped>\n",
       "    .dataframe tbody tr th:only-of-type {\n",
       "        vertical-align: middle;\n",
       "    }\n",
       "\n",
       "    .dataframe tbody tr th {\n",
       "        vertical-align: top;\n",
       "    }\n",
       "\n",
       "    .dataframe thead th {\n",
       "        text-align: right;\n",
       "    }\n",
       "</style>\n",
       "<table border=\"1\" class=\"dataframe\">\n",
       "  <thead>\n",
       "    <tr style=\"text-align: right;\">\n",
       "      <th></th>\n",
       "      <th>year</th>\n",
       "      <th>month</th>\n",
       "      <th>team</th>\n",
       "      <th>team_size</th>\n",
       "      <th>tickets_solved_in_the_current_month</th>\n",
       "      <th>tickets_solved_in_the_previous_year</th>\n",
       "    </tr>\n",
       "  </thead>\n",
       "  <tbody>\n",
       "    <tr>\n",
       "      <th>0</th>\n",
       "      <td>2018</td>\n",
       "      <td>1</td>\n",
       "      <td>team28</td>\n",
       "      <td>1</td>\n",
       "      <td>64</td>\n",
       "      <td>32</td>\n",
       "    </tr>\n",
       "    <tr>\n",
       "      <th>1</th>\n",
       "      <td>2018</td>\n",
       "      <td>2</td>\n",
       "      <td>team90</td>\n",
       "      <td>2</td>\n",
       "      <td>84</td>\n",
       "      <td>43</td>\n",
       "    </tr>\n",
       "    <tr>\n",
       "      <th>2</th>\n",
       "      <td>2018</td>\n",
       "      <td>3</td>\n",
       "      <td>team78</td>\n",
       "      <td>3</td>\n",
       "      <td>88</td>\n",
       "      <td>29</td>\n",
       "    </tr>\n",
       "    <tr>\n",
       "      <th>3</th>\n",
       "      <td>2018</td>\n",
       "      <td>4</td>\n",
       "      <td>team78</td>\n",
       "      <td>4</td>\n",
       "      <td>81</td>\n",
       "      <td>15</td>\n",
       "    </tr>\n",
       "    <tr>\n",
       "      <th>4</th>\n",
       "      <td>2018</td>\n",
       "      <td>5</td>\n",
       "      <td>team34</td>\n",
       "      <td>2</td>\n",
       "      <td>23</td>\n",
       "      <td>31</td>\n",
       "    </tr>\n",
       "  </tbody>\n",
       "</table>\n",
       "</div>"
      ],
      "text/plain": [
       "   year  month    team  team_size  tickets_solved_in_the_current_month  \\\n",
       "0  2018      1  team28          1                                   64   \n",
       "1  2018      2  team90          2                                   84   \n",
       "2  2018      3  team78          3                                   88   \n",
       "3  2018      4  team78          4                                   81   \n",
       "4  2018      5  team34          2                                   23   \n",
       "\n",
       "   tickets_solved_in_the_previous_year  \n",
       "0                                   32  \n",
       "1                                   43  \n",
       "2                                   29  \n",
       "3                                   15  \n",
       "4                                   31  "
      ]
     },
     "execution_count": 2,
     "metadata": {},
     "output_type": "execute_result"
    }
   ],
   "source": [
    "# Example output schema (using generated mock data)\n",
    "import pandas as pd\n",
    "import numpy as np\n",
    "teams = ['team78', 'team30', 'team68', 'team56', 'team34', 'team48',\n",
    "       'team28', 'team33', 'team90']\n",
    "example_output_q4 = pd.DataFrame(\n",
    "    {'year': [2018]*12 + [2019]*12,\n",
    "     'month': list(range(1,13))*2,\n",
    "     'team': np.random.choice(teams, 24),\n",
    "     'team_size': np.random.randint(1,6,24),\n",
    "     'tickets_solved_in_the_current_month': np.random.randint(0,100,24),\n",
    "     'tickets_solved_in_the_previous_year': np.random.randint(0,100,24)}\n",
    ")\n",
    "example_output_q4.head()"
   ]
  },
  {
   "cell_type": "markdown",
   "metadata": {},
   "source": [
    "### Question 5\n",
    "\n",
    "A hypothesis is that the teams working on newer towers will take longer to resolve issues.\n",
    "\n",
    "A colleague began work on the below, but has left it unfinished...\n",
    "\n",
    "Create a function that accepts alarms records (or subparts) and returns the alarm network type.\n",
    "\n",
    "This is a chance to demonstrate your software engineering skills. Make sure this function is robust & ready for PR; consider testing & documentation."
   ]
  },
  {
   "cell_type": "code",
   "execution_count": 9,
   "metadata": {},
   "outputs": [],
   "source": [
    "# Your Answer\n",
    "def myFunc(json_string):\n",
    "    # todo fix me\n",
    "    if json_string['alarm_src']['mecontext'] == 'GSM':\n",
    "        return 'GSM'"
   ]
  }
 ],
 "metadata": {
  "kernelspec": {
   "display_name": "Python 3",
   "language": "python",
   "name": "python3"
  },
  "language_info": {
   "codemirror_mode": {
    "name": "ipython",
    "version": 3
   },
   "file_extension": ".py",
   "mimetype": "text/x-python",
   "name": "python",
   "nbconvert_exporter": "python",
   "pygments_lexer": "ipython3",
   "version": "3.6.12"
  }
 },
 "nbformat": 4,
 "nbformat_minor": 4
}
